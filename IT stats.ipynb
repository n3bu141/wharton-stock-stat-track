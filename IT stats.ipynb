{
 "cells": [
  {
   "cell_type": "code",
   "execution_count": 1,
   "id": "initial_id",
   "metadata": {
    "collapsed": true,
    "ExecuteTime": {
     "end_time": "2023-09-23T17:06:36.433296800Z",
     "start_time": "2023-09-23T17:06:36.413294300Z"
    }
   },
   "outputs": [
    {
     "data": {
      "text/plain": "dict_keys(['Cielo SA', 'Astra Microwave Products Ltd', 'eClerx Services Ltd', 'HCL Technologies Ltd', 'Infosys Ltd', 'LTIMindtree', 'NIIT Ltd', 'Tata Consultancy Services Ltd', 'Tech Mahindra Ltd', 'Wipro Ltd', 'ASML Holding NV', 'Samsung Electronics Co Ltd', 'Sage Group (The) PLC', 'Alphawave IP Group', 'Adobe Inc', 'Advanced Micro Devices', 'Aehr Test Systems', 'Apple Inc', 'Baijiayun Group Ltd', 'Broadcom Inc', 'CISCO Systems Inc', 'Cognizant Technology Solutions Corp', 'Dropbox Inc', 'Fortinet Inc', 'INTEL Corp', 'Manhattan Associates Inc', 'Meta Materials Inc', 'Microsoft Corp', 'NVIDIA Corp', 'NXP Semiconductors NV', 'PayPal Holdings Inc', 'QUALCOMM Inc', 'Solar Edge', 'Texas Instruments Inc', 'UTStarcom Holdings Corp', 'Arista Networks Inc', 'Bill.com Holdings Inc', 'DXC Technology Co', 'Fair Isaac Corp', 'Mastercard Inc', 'Oracle Corp', 'Salesforce Inc', 'SAP SE', 'Snowflake Inc', 'Taiwan Semiconductor Manufacturing Co ', 'Visa Inc', 'Xerox Holdings Corp', 'Foxconn Industrial Internet Co Ltd', 'Hangzhou Hik-Vision Digital Technology Co Ltd', 'Constellation Software Inc', 'Enghouse Systems Ltd', 'Open Text Corp', 'Shopify Inc'])"
     },
     "execution_count": 1,
     "metadata": {},
     "output_type": "execute_result"
    }
   ],
   "source": [
    "import csv\n",
    "\n",
    "file = open('23-24 Competition Stock List-IT.csv')\n",
    "dictReader = csv.DictReader(file)\n",
    "\n",
    "stock_dict = {}\n",
    "for row in dictReader:\n",
    "    if row['GICS Sector'] == 'Information Technology':\n",
    "        stock_dict.update({row['Company Name']: row})\n",
    "\n",
    "file.close()\n",
    "stock_dict.keys()"
   ]
  },
  {
   "cell_type": "code",
   "execution_count": 2,
   "outputs": [
    {
     "data": {
      "text/plain": "{'B3 S.A.': '.SA',\n 'BMV': '.MX',\n 'BSE LTD': '.BO',\n 'Euronext': '.AS',\n 'Frankfurt Stock Exchange': '.F',\n 'Hong Kong Exchanges And Clearing Ltd': '.HK',\n 'Korea Exchange': '.KS',\n 'London Stock Exchange': '.L',\n 'Nasdaq': '',\n 'New York Stock Exchange, Inc.': '',\n 'Shanghai Stock Exchange': '.SS',\n 'Shenzhen Stock Exchange': '.SZ',\n 'SIX Swiss Exchange': '.SW',\n 'Toronto Stock Exchange': '.TO'}"
     },
     "execution_count": 2,
     "metadata": {},
     "output_type": "execute_result"
    }
   ],
   "source": [
    "with open('stock exchange abbreviations.csv') as stock_exchanges:\n",
    "    dictReader = csv.DictReader(stock_exchanges)\n",
    "\n",
    "    exchange_abbreviations = {}\n",
    "    for row in dictReader:\n",
    "        if row['Suffix'] == 'N/A':\n",
    "            exchange_abbreviations.update({row['Approved Stock List Name']: ''})\n",
    "        else:\n",
    "            exchange_abbreviations.update({row['Approved Stock List Name']: row['Suffix']})\n",
    "\n",
    "\n",
    "        \n",
    "exchange_abbreviations"
   ],
   "metadata": {
    "collapsed": false,
    "ExecuteTime": {
     "end_time": "2023-09-23T17:06:36.503336Z",
     "start_time": "2023-09-23T17:06:36.433296800Z"
    }
   },
   "id": "3247faa56958bbc7"
  },
  {
   "cell_type": "code",
   "execution_count": 4,
   "outputs": [
    {
     "name": "stderr",
     "output_type": "stream",
     "text": [
      "UsageError: Line magic function `%finplot` not found.\n"
     ]
    }
   ],
   "source": [
    "import yfinance as yf\n",
    "import finplot as fplt\n",
    "%finplot inline\n",
    "\n",
    "for key in stock_dict.keys():\n",
    "    exchange = exchange_abbreviations[stock_dict[key]['Exchange']]\n",
    "    ticker = stock_dict[key]['Ticker']\n",
    "    if ticker.isnumeric() and len(ticker) < 6:\n",
    "        ticker = ticker.zfill(6)\n",
    "    ticker_inst = yf.Ticker(ticker + exchange)\n",
    "    ticker_info = ticker_inst.info\n",
    "    \n",
    "    df = ticker_inst.history(interval='1d', period='1y')\n",
    "    fplt.candlestick_ochl(df[['Open', 'Close', 'High', 'Low']])\n",
    "    fplt.show()\n",
    "    \n",
    "    # try:\n",
    "    #     print(ticker_info['regularMarketPreviousClose'])\n",
    "    # except:\n",
    "    #     print(ticker_info)"
   ],
   "metadata": {
    "collapsed": false,
    "ExecuteTime": {
     "end_time": "2023-09-23T17:08:29.613275900Z",
     "start_time": "2023-09-23T17:08:29.599274100Z"
    }
   },
   "id": "8eb8c6b05d6634c1"
  },
  {
   "cell_type": "code",
   "execution_count": null,
   "outputs": [],
   "source": [
    "\n",
    "\n"
   ],
   "metadata": {
    "collapsed": false,
    "ExecuteTime": {
     "end_time": "2023-09-23T17:07:40.200497Z",
     "start_time": "2023-09-23T17:07:40.199497900Z"
    }
   },
   "id": "7e694f4582df7b0a"
  }
 ],
 "metadata": {
  "kernelspec": {
   "display_name": "Python 3",
   "language": "python",
   "name": "python3"
  },
  "language_info": {
   "codemirror_mode": {
    "name": "ipython",
    "version": 2
   },
   "file_extension": ".py",
   "mimetype": "text/x-python",
   "name": "python",
   "nbconvert_exporter": "python",
   "pygments_lexer": "ipython2",
   "version": "2.7.6"
  }
 },
 "nbformat": 4,
 "nbformat_minor": 5
}
